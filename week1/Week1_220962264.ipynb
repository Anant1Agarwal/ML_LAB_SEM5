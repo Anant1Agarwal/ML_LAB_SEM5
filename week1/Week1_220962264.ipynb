{
 "cells": [
  {
   "cell_type": "markdown",
   "id": "74bb197e",
   "metadata": {},
   "source": [
    "## WEEK1: NUMPY"
   ]
  },
  {
   "cell_type": "markdown",
   "id": "52bd2da0",
   "metadata": {},
   "source": [
    "### axis intuition\n",
    "\n"
   ]
  },
  {
   "attachments": {
    "axisintitution.webp": {
     "image/webp": "[encoded data removed]"
    }
   },
   "cell_type": "markdown",
   "id": "0b2e00ac",
   "metadata": {},
   "source": [
    "![axisintitution.webp](attachment:axisintitution.webp)"
   ]
  },
  {
   "cell_type": "markdown",
   "id": "ba44d03d",
   "metadata": {},
   "source": [
    "##### 1. Convert a 1-D array into a 2-D array with 3 rows."
   ]
  },
  {
   "cell_type": "code",
   "execution_count": 10,
   "id": "a024434f",
   "metadata": {},
   "outputs": [
    {
     "name": "stdout",
     "output_type": "stream",
     "text": [
      "[0 1 2 3 4 5 6 7 8]\n",
      "unchanged a is:  [0 1 2 3 4 5 6 7 8]\n",
      "b is:  [[0 1 2]\n",
      " [3 4 5]\n",
      " [6 7 8]]\n"
     ]
    }
   ],
   "source": [
    "import numpy as np\n",
    "a=np.arange(0,9,1)\n",
    "print(a)\n",
    "a.reshape(3,3)\n",
    "print('unchanged a is: ',a)\n",
    "b=a.reshape(3,3)\n",
    "print('b is: ',b)\n"
   ]
  },
  {
   "cell_type": "markdown",
   "id": "4bd1d859",
   "metadata": {},
   "source": [
    "##### 2. Replace all odd numbers in the given array with -1"
   ]
  },
  {
   "cell_type": "code",
   "execution_count": 67,
   "id": "f2b0eeec",
   "metadata": {},
   "outputs": [
    {
     "name": "stdout",
     "output_type": "stream",
     "text": [
      "[ 0 -1  2 -1  4 -1  6 -1  8 -1]\n"
     ]
    }
   ],
   "source": [
    "a=np.arange(0,10,1)\n",
    "for i in range(len(a)):\n",
    "    if i%2!=0:\n",
    "        a[i]=-1\n",
    "\n",
    "print(a)\n",
    "\n"
   ]
  },
  {
   "cell_type": "code",
   "execution_count": 68,
   "id": "fa240121",
   "metadata": {},
   "outputs": [
    {
     "data": {
      "text/plain": [
       "array([ 0, -1,  2, -1,  4, -1,  6, -1,  8, -1])"
      ]
     },
     "execution_count": 68,
     "metadata": {},
     "output_type": "execute_result"
    }
   ],
   "source": [
    "a[a%2!=0]=-1\n",
    "a"
   ]
  },
  {
   "cell_type": "code",
   "execution_count": 17,
   "id": "30b7cc2c",
   "metadata": {},
   "outputs": [
    {
     "name": "stdout",
     "output_type": "stream",
     "text": [
      "[0 1 2 3 4 5 6 7 8 9]\n",
      "(array([1, 3, 5, 7, 9]),)\n"
     ]
    },
    {
     "data": {
      "text/plain": [
       "array([ 0, -1,  2, -1,  4, -1,  6, -1,  8, -1])"
      ]
     },
     "execution_count": 17,
     "metadata": {},
     "output_type": "execute_result"
    }
   ],
   "source": [
    "a=np.arange(0,10,1)\n",
    "print(a)\n",
    "odd_indices=np.where(a%2!=0)   #element based not index based\n",
    "print(odd_indices)\n",
    "a[odd_indices]=-1\n",
    "a"
   ]
  },
  {
   "cell_type": "code",
   "execution_count": 19,
   "id": "3d6edf74",
   "metadata": {},
   "outputs": [
    {
     "name": "stdout",
     "output_type": "stream",
     "text": [
      "[0 1 2 3 4 5 6 7 8 9]\n",
      "[ 0 -1  2 -1  4 -1  6 -1  8 -1]\n"
     ]
    }
   ],
   "source": [
    "a=np.arange(0,10,1)\n",
    "print(a)\n",
    "odd_indices=np.arange(0,10,1)\n",
    "odd_indices[odd_indices%2!=0]=-1\n",
    "a[np.where(odd_indices==-1)]=-1\n",
    "print(a)"
   ]
  },
  {
   "cell_type": "markdown",
   "id": "f7e872ab",
   "metadata": {},
   "source": [
    "##### 3. Find the positions of:\n",
    "\n",
    "##### elements in x where its value is more than its corresponding element in y, and elements in x where its value is equals to its corresponding element in y."
   ]
  },
  {
   "cell_type": "code",
   "execution_count": 23,
   "id": "3cfdbeae",
   "metadata": {},
   "outputs": [
    {
     "name": "stdout",
     "output_type": "stream",
     "text": [
      "(array([1, 2, 4, 5, 6, 7, 8, 9]),)\n",
      "(array([0]),)\n"
     ]
    }
   ],
   "source": [
    "x = np.array([21, 64, 86, 22, 74, 55, 81, 79, 90, 89]) \n",
    "y = np.array([21, 7, 3, 45, 10, 29, 55, 4, 37, 18])\n",
    "\n",
    "a=np.where(x>y)\n",
    "print(a)\n",
    "b=np.where(x==y)\n",
    "print(b)"
   ]
  },
  {
   "cell_type": "markdown",
   "id": "e38b786e",
   "metadata": {},
   "source": [
    "##### 4. Extract the first four columns of this 2-D array."
   ]
  },
  {
   "cell_type": "code",
   "execution_count": 36,
   "id": "89e3764e",
   "metadata": {},
   "outputs": [
    {
     "name": "stdout",
     "output_type": "stream",
     "text": [
      "[[ 0  1  2  3  4  5  6  7  8  9 10 11 12 13 14 15 16 17 18 19]\n",
      " [20 21 22 23 24 25 26 27 28 29 30 31 32 33 34 35 36 37 38 39]\n",
      " [40 41 42 43 44 45 46 47 48 49 50 51 52 53 54 55 56 57 58 59]\n",
      " [60 61 62 63 64 65 66 67 68 69 70 71 72 73 74 75 76 77 78 79]\n",
      " [80 81 82 83 84 85 86 87 88 89 90 91 92 93 94 95 96 97 98 99]]\n",
      "[20 21 22 23 24 25 26 27 28 29 30 31 32 33 34 35 36 37 38 39]\n",
      "22\n",
      "[[ 0  1  2  3]\n",
      " [20 21 22 23]\n",
      " [40 41 42 43]\n",
      " [60 61 62 63]\n",
      " [80 81 82 83]]\n"
     ]
    }
   ],
   "source": [
    "a=np.arange(100).reshape(5,-1)\n",
    "print(a)\n",
    "print(a[1])\n",
    "print(a[1][2])\n",
    "print(a[:,:4])"
   ]
  },
  {
   "cell_type": "markdown",
   "id": "5d5ffc2c",
   "metadata": {},
   "source": [
    "##### 1. Generate a 1-D array of 10 random integers. Each integer should be a number between 30 and 40 (inclusive)."
   ]
  },
  {
   "cell_type": "code",
   "execution_count": 42,
   "id": "587c35b1",
   "metadata": {},
   "outputs": [
    {
     "name": "stdout",
     "output_type": "stream",
     "text": [
      "[31 31 34 31 34 36 39 38 30 35]\n"
     ]
    }
   ],
   "source": [
    "a=np.random.randint(30,40,10)\n",
    "print(a)"
   ]
  },
  {
   "cell_type": "markdown",
   "id": "d4238445",
   "metadata": {},
   "source": [
    "##### 2. Consider the following matrices :\n",
    "##### A= ((1, 2, 3), (4, 5, 6), (7, 8, 10)) and   B = ((7, 8, 10) ,(4, 5, 6), (1, 2, 3))\n",
    "##### Write a python program to perform the following using Numeric Python (numpy).\n",
    "###### i) Add and Subtract of the Matrix A and B, print the resultant matrix C for add and E for subtract.\n",
    "###### ii) Compute the sum of all elements of Matrix A, sum of each column of Matrix B and sum of each row of Matrix C\n",
    "###### iii) Product of two matrices A and B, and print the resultant matrix D\n",
    "###### iv) Sort the elements of resultant matrix C and print the resultant Matrix E.                           \n",
    "###### v) Transpose the Matrix E and print the result\n"
   ]
  },
  {
   "cell_type": "code",
   "execution_count": 46,
   "id": "e176a165",
   "metadata": {},
   "outputs": [
    {
     "name": "stdout",
     "output_type": "stream",
     "text": [
      "[[ 1  2  3]\n",
      " [ 4  5  6]\n",
      " [ 7  8 10]]\n",
      "[[ 7  8 10]\n",
      " [ 4  5  6]\n",
      " [ 1  2  3]]\n"
     ]
    }
   ],
   "source": [
    "a=np.array([(1,2,3),(4,5,6),(7,8,10)])\n",
    "b=np.array([(7,8,10),(4,5,6),(1,2,3)])\n",
    "print(a)\n",
    "print(b)"
   ]
  },
  {
   "cell_type": "code",
   "execution_count": 47,
   "id": "517fe81d",
   "metadata": {},
   "outputs": [
    {
     "name": "stdout",
     "output_type": "stream",
     "text": [
      "[[ 8 10 13]\n",
      " [ 8 10 12]\n",
      " [ 8 10 13]]\n",
      "[[-6 -6 -7]\n",
      " [ 0  0  0]\n",
      " [ 6  6  7]]\n"
     ]
    }
   ],
   "source": [
    "c=a+b\n",
    "print(c)\n",
    "e=a-b\n",
    "print(e)"
   ]
  },
  {
   "cell_type": "code",
   "execution_count": 59,
   "id": "302217f5",
   "metadata": {},
   "outputs": [
    {
     "name": "stdout",
     "output_type": "stream",
     "text": [
      "sum of all elements of a is: 46\n",
      "sum of all elements of a is: 46\n",
      "sum of each coloumn of matrix b is [12 15 19]\n",
      "sum of each row of matrix c is [31 30 31]\n"
     ]
    }
   ],
   "source": [
    "elesuma=0\n",
    "for i in a:\n",
    "    for j in i:\n",
    "        elesuma+=j\n",
    "print('sum of all elements of a is:',elesuma)\n",
    "print('sum of all elements of a is:',np.sum(a))\n",
    "print('sum of each coloumn of matrix b is', np.sum(b, axis=0))\n",
    "print('sum of each row of matrix c is', np.sum(c, axis=1))\n",
    "\n"
   ]
  },
  {
   "cell_type": "code",
   "execution_count": 61,
   "id": "aab8d23b",
   "metadata": {},
   "outputs": [
    {
     "name": "stdout",
     "output_type": "stream",
     "text": [
      "[[ 18  24  31]\n",
      " [ 54  69  88]\n",
      " [ 91 116 148]]\n"
     ]
    }
   ],
   "source": [
    "d=a.dot(b)\n",
    "print(d)"
   ]
  },
  {
   "cell_type": "code",
   "execution_count": 64,
   "id": "64dabcb4",
   "metadata": {},
   "outputs": [
    {
     "name": "stdout",
     "output_type": "stream",
     "text": [
      "[[ 1  2  3]\n",
      " [ 4  5  6]\n",
      " [ 7  8 10]]\n"
     ]
    }
   ],
   "source": [
    "e=np.sort(b,axis=None).reshape(3,3)\n",
    "print(e)"
   ]
  },
  {
   "cell_type": "code",
   "execution_count": 66,
   "id": "9d4811fb",
   "metadata": {},
   "outputs": [
    {
     "name": "stdout",
     "output_type": "stream",
     "text": [
      "[[ 1  2  3]\n",
      " [ 4  5  6]\n",
      " [ 7  8 10]]\n"
     ]
    }
   ],
   "source": [
    "e.transpose()\n",
    "print(e)"
   ]
  },
  {
   "cell_type": "code",
   "execution_count": null,
   "id": "e2713e2d",
   "metadata": {},
   "outputs": [],
   "source": []
  }
 ],
 "metadata": {
  "kernelspec": {
   "display_name": "Python 3 (ipykernel)",
   "language": "python",
   "name": "python3"
  },
  "language_info": {
   "codemirror_mode": {
    "name": "ipython",
    "version": 3
   },
   "file_extension": ".py",
   "mimetype": "text/x-python",
   "name": "python",
   "nbconvert_exporter": "python",
   "pygments_lexer": "ipython3",
   "version": "3.12.3"
  }
 },
 "nbformat": 4,
 "nbformat_minor": 5
}
